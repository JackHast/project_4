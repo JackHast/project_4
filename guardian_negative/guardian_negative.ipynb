{
 "cells": [
  {
   "cell_type": "code",
   "execution_count": 9,
   "id": "a8b599fc",
   "metadata": {},
   "outputs": [],
   "source": [
    "import pandas as pd"
   ]
  },
  {
   "cell_type": "code",
   "execution_count": 10,
   "id": "68c2867a",
   "metadata": {},
   "outputs": [],
   "source": [
    "# importing guardian headlines and positive and negative words\n",
    "\n",
    "guardian = pd.read_csv('guardian_headlines.csv')\n",
    "pos_neg_words = pd.read_excel('words.xlsx',header=None)"
   ]
  },
  {
   "cell_type": "code",
   "execution_count": 11,
   "id": "7d71f651",
   "metadata": {},
   "outputs": [],
   "source": [
    "pos_neg_words = pd.read_excel('words.xlsx',header=None)"
   ]
  },
  {
   "cell_type": "code",
   "execution_count": 13,
   "id": "34fd26be",
   "metadata": {},
   "outputs": [
    {
     "data": {
      "text/html": [
       "<div>\n",
       "<style scoped>\n",
       "    .dataframe tbody tr th:only-of-type {\n",
       "        vertical-align: middle;\n",
       "    }\n",
       "\n",
       "    .dataframe tbody tr th {\n",
       "        vertical-align: top;\n",
       "    }\n",
       "\n",
       "    .dataframe thead th {\n",
       "        text-align: right;\n",
       "    }\n",
       "</style>\n",
       "<table border=\"1\" class=\"dataframe\">\n",
       "  <thead>\n",
       "    <tr style=\"text-align: right;\">\n",
       "      <th></th>\n",
       "      <th>0</th>\n",
       "      <th>1</th>\n",
       "      <th>2</th>\n",
       "    </tr>\n",
       "  </thead>\n",
       "  <tbody>\n",
       "    <tr>\n",
       "      <th>0</th>\n",
       "      <td>2-faced</td>\n",
       "      <td>a+</td>\n",
       "      <td>NaN</td>\n",
       "    </tr>\n",
       "    <tr>\n",
       "      <th>1</th>\n",
       "      <td>2-faces</td>\n",
       "      <td>NaN</td>\n",
       "      <td>abound</td>\n",
       "    </tr>\n",
       "    <tr>\n",
       "      <th>2</th>\n",
       "      <td>abnormal</td>\n",
       "      <td>NaN</td>\n",
       "      <td>abounds</td>\n",
       "    </tr>\n",
       "    <tr>\n",
       "      <th>3</th>\n",
       "      <td>abolish</td>\n",
       "      <td>NaN</td>\n",
       "      <td>abundance</td>\n",
       "    </tr>\n",
       "    <tr>\n",
       "      <th>4</th>\n",
       "      <td>abominable</td>\n",
       "      <td>NaN</td>\n",
       "      <td>abundant</td>\n",
       "    </tr>\n",
       "  </tbody>\n",
       "</table>\n",
       "</div>"
      ],
      "text/plain": [
       "            0    1          2\n",
       "0     2-faced   a+        NaN\n",
       "1     2-faces  NaN     abound\n",
       "2    abnormal  NaN    abounds\n",
       "3     abolish  NaN  abundance\n",
       "4  abominable  NaN   abundant"
      ]
     },
     "execution_count": 13,
     "metadata": {},
     "output_type": "execute_result"
    }
   ],
   "source": [
    "pos_neg_words.head()\n"
   ]
  },
  {
   "cell_type": "code",
   "execution_count": 18,
   "id": "6637046e",
   "metadata": {},
   "outputs": [
    {
     "data": {
      "text/plain": [
       "0          2-faced\n",
       "1          2-faces\n",
       "2         abnormal\n",
       "3          abolish\n",
       "4       abominable\n",
       "           ...    \n",
       "4778          zaps\n",
       "4779        zealot\n",
       "4780       zealous\n",
       "4781     zealously\n",
       "4782        zombie\n",
       "Name: 0, Length: 4783, dtype: object"
      ]
     },
     "execution_count": 18,
     "metadata": {},
     "output_type": "execute_result"
    }
   ],
   "source": [
    "# only want negative words\n",
    "\n",
    "neg_words = pos_neg_words[0]\n",
    "pos_words = pos_neg_words[2]\n",
    "neg_words"
   ]
  },
  {
   "cell_type": "code",
   "execution_count": 21,
   "id": "9503ff2d",
   "metadata": {},
   "outputs": [
    {
     "data": {
      "text/plain": [
       "1           abound\n",
       "2          abounds\n",
       "3        abundance\n",
       "4         abundant\n",
       "5       accessable\n",
       "           ...    \n",
       "2001      youthful\n",
       "2002          zeal\n",
       "2003        zenith\n",
       "2004          zest\n",
       "2005         zippy\n",
       "Name: 2, Length: 2005, dtype: object"
      ]
     },
     "execution_count": 21,
     "metadata": {},
     "output_type": "execute_result"
    }
   ],
   "source": [
    "pos_words = pos_words.dropna()\n",
    "pos_words"
   ]
  },
  {
   "cell_type": "code",
   "execution_count": 23,
   "id": "db0c3bfa",
   "metadata": {},
   "outputs": [],
   "source": [
    "negative_words = list(neg_words)\n",
    "positive_words = list(pos_words)"
   ]
  },
  {
   "cell_type": "code",
   "execution_count": 24,
   "id": "ffa00bd3",
   "metadata": {},
   "outputs": [],
   "source": [
    "# this code block gets headlines from the guardian df that contain negative words\n",
    "\n",
    "neg = []\n",
    "for index,row in guardian.iterrows():\n",
    "    List = row[1].split()\n",
    "    for word in List:\n",
    "        if word in negative_words:\n",
    "            neg.append(row[1])"
   ]
  },
  {
   "cell_type": "code",
   "execution_count": 25,
   "id": "f2359a15",
   "metadata": {},
   "outputs": [],
   "source": [
    "neg = pd.Series(neg).drop_duplicates().tolist()"
   ]
  },
  {
   "cell_type": "code",
   "execution_count": 26,
   "id": "8e901298",
   "metadata": {},
   "outputs": [],
   "source": [
    "# this code block removes headlines from the neg list that contain positive words\n",
    "\n",
    "for sentence in neg:\n",
    "    List = sentence.split()\n",
    "    for word in List:\n",
    "        if word in positive_words:\n",
    "            neg.remove(sentence)\n",
    "            break"
   ]
  },
  {
   "cell_type": "code",
   "execution_count": 27,
   "id": "e8d75dd8",
   "metadata": {},
   "outputs": [
    {
     "data": {
      "text/plain": [
       "6075"
      ]
     },
     "execution_count": 27,
     "metadata": {},
     "output_type": "execute_result"
    }
   ],
   "source": [
    "len(neg)"
   ]
  },
  {
   "cell_type": "code",
   "execution_count": 29,
   "id": "8e058033",
   "metadata": {},
   "outputs": [],
   "source": [
    "# saving \n",
    "\n",
    "neg_df = pd.DataFrame({'Sentences':neg})\n",
    "neg_df.to_csv('negative_guardian.csv',index=False)"
   ]
  },
  {
   "cell_type": "code",
   "execution_count": 30,
   "id": "75c8df25",
   "metadata": {},
   "outputs": [
    {
     "data": {
      "text/html": [
       "<div>\n",
       "<style scoped>\n",
       "    .dataframe tbody tr th:only-of-type {\n",
       "        vertical-align: middle;\n",
       "    }\n",
       "\n",
       "    .dataframe tbody tr th {\n",
       "        vertical-align: top;\n",
       "    }\n",
       "\n",
       "    .dataframe thead th {\n",
       "        text-align: right;\n",
       "    }\n",
       "</style>\n",
       "<table border=\"1\" class=\"dataframe\">\n",
       "  <thead>\n",
       "    <tr style=\"text-align: right;\">\n",
       "      <th></th>\n",
       "      <th>Sentences</th>\n",
       "    </tr>\n",
       "  </thead>\n",
       "  <tbody>\n",
       "    <tr>\n",
       "      <th>0</th>\n",
       "      <td>‘I now fear the worst’: four grim tales of wor...</td>\n",
       "    </tr>\n",
       "    <tr>\n",
       "      <th>1</th>\n",
       "      <td>The Week in Patriarchy  \\n\\n\\n  Bacardi's 'lad...</td>\n",
       "    </tr>\n",
       "    <tr>\n",
       "      <th>2</th>\n",
       "      <td>Democratising finance for all? An investment a...</td>\n",
       "    </tr>\n",
       "    <tr>\n",
       "      <th>3</th>\n",
       "      <td>Homebuyer loses £300,000 to fraudsters – but g...</td>\n",
       "    </tr>\n",
       "    <tr>\n",
       "      <th>4</th>\n",
       "      <td>Ask and Zizzi to close 75 outlets, threatening...</td>\n",
       "    </tr>\n",
       "    <tr>\n",
       "      <th>...</th>\n",
       "      <td>...</td>\n",
       "    </tr>\n",
       "    <tr>\n",
       "      <th>6070</th>\n",
       "      <td>Is the global desire to buy British a bad thin...</td>\n",
       "    </tr>\n",
       "    <tr>\n",
       "      <th>6071</th>\n",
       "      <td>‘Going to the Furniture Ombudsman about our so...</td>\n",
       "    </tr>\n",
       "    <tr>\n",
       "      <th>6072</th>\n",
       "      <td>Uber stole trade secrets, bribed foreign offic...</td>\n",
       "    </tr>\n",
       "    <tr>\n",
       "      <th>6073</th>\n",
       "      <td>Hundreds to lose jobs as Britvic shuts down No...</td>\n",
       "    </tr>\n",
       "    <tr>\n",
       "      <th>6074</th>\n",
       "      <td>Poundland suppliers hit by insurance downgrade</td>\n",
       "    </tr>\n",
       "  </tbody>\n",
       "</table>\n",
       "<p>6075 rows × 1 columns</p>\n",
       "</div>"
      ],
      "text/plain": [
       "                                              Sentences\n",
       "0     ‘I now fear the worst’: four grim tales of wor...\n",
       "1     The Week in Patriarchy  \\n\\n\\n  Bacardi's 'lad...\n",
       "2     Democratising finance for all? An investment a...\n",
       "3     Homebuyer loses £300,000 to fraudsters – but g...\n",
       "4     Ask and Zizzi to close 75 outlets, threatening...\n",
       "...                                                 ...\n",
       "6070  Is the global desire to buy British a bad thin...\n",
       "6071  ‘Going to the Furniture Ombudsman about our so...\n",
       "6072  Uber stole trade secrets, bribed foreign offic...\n",
       "6073  Hundreds to lose jobs as Britvic shuts down No...\n",
       "6074     Poundland suppliers hit by insurance downgrade\n",
       "\n",
       "[6075 rows x 1 columns]"
      ]
     },
     "execution_count": 30,
     "metadata": {},
     "output_type": "execute_result"
    }
   ],
   "source": [
    "neg_df"
   ]
  },
  {
   "cell_type": "code",
   "execution_count": null,
   "id": "1fa57557",
   "metadata": {},
   "outputs": [],
   "source": []
  }
 ],
 "metadata": {
  "kernelspec": {
   "display_name": "Python 3 (ipykernel)",
   "language": "python",
   "name": "python3"
  },
  "language_info": {
   "codemirror_mode": {
    "name": "ipython",
    "version": 3
   },
   "file_extension": ".py",
   "mimetype": "text/x-python",
   "name": "python",
   "nbconvert_exporter": "python",
   "pygments_lexer": "ipython3",
   "version": "3.10.11"
  }
 },
 "nbformat": 4,
 "nbformat_minor": 5
}
