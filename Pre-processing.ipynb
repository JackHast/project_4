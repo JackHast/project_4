{
 "cells": [
  {
   "cell_type": "code",
   "execution_count": 1,
   "id": "4c8f354d",
   "metadata": {},
   "outputs": [],
   "source": [
    "# importing dependencies\n",
    "\n",
    "import pandas as pd\n",
    "import ast # This is used to convert strings to dictionaries\n",
    "import matplotlib.pyplot as plt\n",
    "\n"
   ]
  },
  {
   "cell_type": "code",
   "execution_count": 2,
   "id": "fac96f26",
   "metadata": {},
   "outputs": [],
   "source": [
    "# importing data\n",
    "\n",
    "df = pd.read_csv('original_data/SEntFiN-v1.1.csv')\n",
    "df_2 = pd.read_csv('original_data/stock_news.csv')\n",
    "df_3 = pd.read_csv('original_data/phrasebook.csv',encoding='latin-1',header=None)\n",
    "df_4 = pd.read_excel('original_data/negative_guardian.xlsx')\n",
    "df_5 = pd.read_csv('original_data/sent_train.csv')\n",
    "df_6 = pd.read_csv('original_data/sent_valid.csv')\n",
    "df_7 = pd.read_csv('original_data/companies_1.csv')"
   ]
  },
  {
   "cell_type": "markdown",
   "id": "de3facf8",
   "metadata": {},
   "source": [
    "<font size=\"3\">Firstly Inspecting the Dataframes</font>"
   ]
  },
  {
   "cell_type": "code",
   "execution_count": 3,
   "id": "5d35d7be",
   "metadata": {},
   "outputs": [
    {
     "data": {
      "text/html": [
       "<div>\n",
       "<style scoped>\n",
       "    .dataframe tbody tr th:only-of-type {\n",
       "        vertical-align: middle;\n",
       "    }\n",
       "\n",
       "    .dataframe tbody tr th {\n",
       "        vertical-align: top;\n",
       "    }\n",
       "\n",
       "    .dataframe thead th {\n",
       "        text-align: right;\n",
       "    }\n",
       "</style>\n",
       "<table border=\"1\" class=\"dataframe\">\n",
       "  <thead>\n",
       "    <tr style=\"text-align: right;\">\n",
       "      <th></th>\n",
       "      <th>S No.</th>\n",
       "      <th>Title</th>\n",
       "      <th>Decisions</th>\n",
       "      <th>Words</th>\n",
       "    </tr>\n",
       "  </thead>\n",
       "  <tbody>\n",
       "    <tr>\n",
       "      <th>0</th>\n",
       "      <td>1</td>\n",
       "      <td>SpiceJet to issue 6.4 crore warrants to promoters</td>\n",
       "      <td>{\"SpiceJet\": \"neutral\"}</td>\n",
       "      <td>8</td>\n",
       "    </tr>\n",
       "    <tr>\n",
       "      <th>1</th>\n",
       "      <td>2</td>\n",
       "      <td>MMTC Q2 net loss at Rs 10.4 crore</td>\n",
       "      <td>{\"MMTC\": \"neutral\"}</td>\n",
       "      <td>8</td>\n",
       "    </tr>\n",
       "    <tr>\n",
       "      <th>2</th>\n",
       "      <td>3</td>\n",
       "      <td>Mid-cap funds can deliver more, stay put: Experts</td>\n",
       "      <td>{\"Mid-cap funds\": \"positive\"}</td>\n",
       "      <td>8</td>\n",
       "    </tr>\n",
       "    <tr>\n",
       "      <th>3</th>\n",
       "      <td>4</td>\n",
       "      <td>Mid caps now turn into market darlings</td>\n",
       "      <td>{\"Mid caps\": \"positive\"}</td>\n",
       "      <td>7</td>\n",
       "    </tr>\n",
       "    <tr>\n",
       "      <th>4</th>\n",
       "      <td>5</td>\n",
       "      <td>Market seeing patience, if not conviction: Pra...</td>\n",
       "      <td>{\"Market\": \"neutral\"}</td>\n",
       "      <td>8</td>\n",
       "    </tr>\n",
       "  </tbody>\n",
       "</table>\n",
       "</div>"
      ],
      "text/plain": [
       "   S No.                                              Title  \\\n",
       "0      1  SpiceJet to issue 6.4 crore warrants to promoters   \n",
       "1      2                  MMTC Q2 net loss at Rs 10.4 crore   \n",
       "2      3  Mid-cap funds can deliver more, stay put: Experts   \n",
       "3      4             Mid caps now turn into market darlings   \n",
       "4      5  Market seeing patience, if not conviction: Pra...   \n",
       "\n",
       "                       Decisions  Words  \n",
       "0        {\"SpiceJet\": \"neutral\"}      8  \n",
       "1            {\"MMTC\": \"neutral\"}      8  \n",
       "2  {\"Mid-cap funds\": \"positive\"}      8  \n",
       "3       {\"Mid caps\": \"positive\"}      7  \n",
       "4          {\"Market\": \"neutral\"}      8  "
      ]
     },
     "execution_count": 3,
     "metadata": {},
     "output_type": "execute_result"
    }
   ],
   "source": [
    "df.head()\n",
    "\n"
   ]
  },
  {
   "cell_type": "code",
   "execution_count": 4,
   "id": "5bde4211",
   "metadata": {},
   "outputs": [
    {
     "data": {
      "text/html": [
       "<div>\n",
       "<style scoped>\n",
       "    .dataframe tbody tr th:only-of-type {\n",
       "        vertical-align: middle;\n",
       "    }\n",
       "\n",
       "    .dataframe tbody tr th {\n",
       "        vertical-align: top;\n",
       "    }\n",
       "\n",
       "    .dataframe thead th {\n",
       "        text-align: right;\n",
       "    }\n",
       "</style>\n",
       "<table border=\"1\" class=\"dataframe\">\n",
       "  <thead>\n",
       "    <tr style=\"text-align: right;\">\n",
       "      <th></th>\n",
       "      <th>Unnamed: 0</th>\n",
       "      <th>headline</th>\n",
       "      <th>label</th>\n",
       "    </tr>\n",
       "  </thead>\n",
       "  <tbody>\n",
       "    <tr>\n",
       "      <th>0</th>\n",
       "      <td>0</td>\n",
       "      <td>Markets Close Mostly Lower Again; ROST, PANW R...</td>\n",
       "      <td>Negative</td>\n",
       "    </tr>\n",
       "    <tr>\n",
       "      <th>1</th>\n",
       "      <td>1</td>\n",
       "      <td>Gap plummets on earnings miss, cuts full-year ...</td>\n",
       "      <td>Negative</td>\n",
       "    </tr>\n",
       "    <tr>\n",
       "      <th>2</th>\n",
       "      <td>2</td>\n",
       "      <td>Billionaire Ken Fisher is Selling These 10 Stocks</td>\n",
       "      <td>Negative</td>\n",
       "    </tr>\n",
       "    <tr>\n",
       "      <th>3</th>\n",
       "      <td>3</td>\n",
       "      <td>Corning net income drops 13%, shares fall</td>\n",
       "      <td>Negative</td>\n",
       "    </tr>\n",
       "    <tr>\n",
       "      <th>4</th>\n",
       "      <td>4</td>\n",
       "      <td>Internet Explorer shutdown to cause Japan prob...</td>\n",
       "      <td>Negative</td>\n",
       "    </tr>\n",
       "  </tbody>\n",
       "</table>\n",
       "</div>"
      ],
      "text/plain": [
       "   Unnamed: 0                                           headline     label\n",
       "0           0  Markets Close Mostly Lower Again; ROST, PANW R...  Negative\n",
       "1           1  Gap plummets on earnings miss, cuts full-year ...  Negative\n",
       "2           2  Billionaire Ken Fisher is Selling These 10 Stocks  Negative\n",
       "3           3          Corning net income drops 13%, shares fall  Negative\n",
       "4           4  Internet Explorer shutdown to cause Japan prob...  Negative"
      ]
     },
     "execution_count": 4,
     "metadata": {},
     "output_type": "execute_result"
    }
   ],
   "source": [
    "df_2.head()\n",
    "\n"
   ]
  },
  {
   "cell_type": "code",
   "execution_count": 5,
   "id": "d229a82b",
   "metadata": {},
   "outputs": [
    {
     "data": {
      "text/html": [
       "<div>\n",
       "<style scoped>\n",
       "    .dataframe tbody tr th:only-of-type {\n",
       "        vertical-align: middle;\n",
       "    }\n",
       "\n",
       "    .dataframe tbody tr th {\n",
       "        vertical-align: top;\n",
       "    }\n",
       "\n",
       "    .dataframe thead th {\n",
       "        text-align: right;\n",
       "    }\n",
       "</style>\n",
       "<table border=\"1\" class=\"dataframe\">\n",
       "  <thead>\n",
       "    <tr style=\"text-align: right;\">\n",
       "      <th></th>\n",
       "      <th>0</th>\n",
       "      <th>1</th>\n",
       "    </tr>\n",
       "  </thead>\n",
       "  <tbody>\n",
       "    <tr>\n",
       "      <th>0</th>\n",
       "      <td>neutral</td>\n",
       "      <td>According to Gran , the company has no plans t...</td>\n",
       "    </tr>\n",
       "    <tr>\n",
       "      <th>1</th>\n",
       "      <td>neutral</td>\n",
       "      <td>Technopolis plans to develop in stages an area...</td>\n",
       "    </tr>\n",
       "    <tr>\n",
       "      <th>2</th>\n",
       "      <td>negative</td>\n",
       "      <td>The international electronic industry company ...</td>\n",
       "    </tr>\n",
       "    <tr>\n",
       "      <th>3</th>\n",
       "      <td>positive</td>\n",
       "      <td>With the new production plant the company woul...</td>\n",
       "    </tr>\n",
       "    <tr>\n",
       "      <th>4</th>\n",
       "      <td>positive</td>\n",
       "      <td>According to the company 's updated strategy f...</td>\n",
       "    </tr>\n",
       "  </tbody>\n",
       "</table>\n",
       "</div>"
      ],
      "text/plain": [
       "          0                                                  1\n",
       "0   neutral  According to Gran , the company has no plans t...\n",
       "1   neutral  Technopolis plans to develop in stages an area...\n",
       "2  negative  The international electronic industry company ...\n",
       "3  positive  With the new production plant the company woul...\n",
       "4  positive  According to the company 's updated strategy f..."
      ]
     },
     "execution_count": 5,
     "metadata": {},
     "output_type": "execute_result"
    }
   ],
   "source": [
    "df_3.head()\n",
    "\n"
   ]
  },
  {
   "cell_type": "code",
   "execution_count": 6,
   "id": "b4484f7e",
   "metadata": {},
   "outputs": [
    {
     "data": {
      "text/html": [
       "<div>\n",
       "<style scoped>\n",
       "    .dataframe tbody tr th:only-of-type {\n",
       "        vertical-align: middle;\n",
       "    }\n",
       "\n",
       "    .dataframe tbody tr th {\n",
       "        vertical-align: top;\n",
       "    }\n",
       "\n",
       "    .dataframe thead th {\n",
       "        text-align: right;\n",
       "    }\n",
       "</style>\n",
       "<table border=\"1\" class=\"dataframe\">\n",
       "  <thead>\n",
       "    <tr style=\"text-align: right;\">\n",
       "      <th></th>\n",
       "      <th>Sentences</th>\n",
       "    </tr>\n",
       "  </thead>\n",
       "  <tbody>\n",
       "    <tr>\n",
       "      <th>0</th>\n",
       "      <td>‚ÄòI now fear the worst‚Äô: four grim tales of...</td>\n",
       "    </tr>\n",
       "    <tr>\n",
       "      <th>1</th>\n",
       "      <td>The Week in Patriarchy  \\n\\n\\n  Bacardi's 'lad...</td>\n",
       "    </tr>\n",
       "    <tr>\n",
       "      <th>2</th>\n",
       "      <td>Democratising finance for all? An investment a...</td>\n",
       "    </tr>\n",
       "    <tr>\n",
       "      <th>3</th>\n",
       "      <td>NaN</td>\n",
       "    </tr>\n",
       "    <tr>\n",
       "      <th>4</th>\n",
       "      <td>Ask and Zizzi to close 75 outlets, threatening...</td>\n",
       "    </tr>\n",
       "  </tbody>\n",
       "</table>\n",
       "</div>"
      ],
      "text/plain": [
       "                                           Sentences\n",
       "0  ‚ÄòI now fear the worst‚Äô: four grim tales of...\n",
       "1  The Week in Patriarchy  \\n\\n\\n  Bacardi's 'lad...\n",
       "2  Democratising finance for all? An investment a...\n",
       "3                                                NaN\n",
       "4  Ask and Zizzi to close 75 outlets, threatening..."
      ]
     },
     "execution_count": 6,
     "metadata": {},
     "output_type": "execute_result"
    }
   ],
   "source": [
    "df_4.head()\n",
    "\n"
   ]
  },
  {
   "cell_type": "code",
   "execution_count": 7,
   "id": "7538af21",
   "metadata": {},
   "outputs": [
    {
     "data": {
      "text/html": [
       "<div>\n",
       "<style scoped>\n",
       "    .dataframe tbody tr th:only-of-type {\n",
       "        vertical-align: middle;\n",
       "    }\n",
       "\n",
       "    .dataframe tbody tr th {\n",
       "        vertical-align: top;\n",
       "    }\n",
       "\n",
       "    .dataframe thead th {\n",
       "        text-align: right;\n",
       "    }\n",
       "</style>\n",
       "<table border=\"1\" class=\"dataframe\">\n",
       "  <thead>\n",
       "    <tr style=\"text-align: right;\">\n",
       "      <th></th>\n",
       "      <th>text</th>\n",
       "      <th>label</th>\n",
       "    </tr>\n",
       "  </thead>\n",
       "  <tbody>\n",
       "    <tr>\n",
       "      <th>0</th>\n",
       "      <td>$BYND - JPMorgan reels in expectations on Beyo...</td>\n",
       "      <td>0</td>\n",
       "    </tr>\n",
       "    <tr>\n",
       "      <th>1</th>\n",
       "      <td>$CCL $RCL - Nomura points to bookings weakness...</td>\n",
       "      <td>0</td>\n",
       "    </tr>\n",
       "    <tr>\n",
       "      <th>2</th>\n",
       "      <td>$CX - Cemex cut at Credit Suisse, J.P. Morgan ...</td>\n",
       "      <td>0</td>\n",
       "    </tr>\n",
       "    <tr>\n",
       "      <th>3</th>\n",
       "      <td>$ESS: BTIG Research cuts to Neutral https://t....</td>\n",
       "      <td>0</td>\n",
       "    </tr>\n",
       "    <tr>\n",
       "      <th>4</th>\n",
       "      <td>$FNKO - Funko slides after Piper Jaffray PT cu...</td>\n",
       "      <td>0</td>\n",
       "    </tr>\n",
       "  </tbody>\n",
       "</table>\n",
       "</div>"
      ],
      "text/plain": [
       "                                                text  label\n",
       "0  $BYND - JPMorgan reels in expectations on Beyo...      0\n",
       "1  $CCL $RCL - Nomura points to bookings weakness...      0\n",
       "2  $CX - Cemex cut at Credit Suisse, J.P. Morgan ...      0\n",
       "3  $ESS: BTIG Research cuts to Neutral https://t....      0\n",
       "4  $FNKO - Funko slides after Piper Jaffray PT cu...      0"
      ]
     },
     "execution_count": 7,
     "metadata": {},
     "output_type": "execute_result"
    }
   ],
   "source": [
    "df_5.head()\n",
    "\n"
   ]
  },
  {
   "cell_type": "code",
   "execution_count": 8,
   "id": "92691ad1",
   "metadata": {},
   "outputs": [
    {
     "data": {
      "text/html": [
       "<div>\n",
       "<style scoped>\n",
       "    .dataframe tbody tr th:only-of-type {\n",
       "        vertical-align: middle;\n",
       "    }\n",
       "\n",
       "    .dataframe tbody tr th {\n",
       "        vertical-align: top;\n",
       "    }\n",
       "\n",
       "    .dataframe thead th {\n",
       "        text-align: right;\n",
       "    }\n",
       "</style>\n",
       "<table border=\"1\" class=\"dataframe\">\n",
       "  <thead>\n",
       "    <tr style=\"text-align: right;\">\n",
       "      <th></th>\n",
       "      <th>text</th>\n",
       "      <th>label</th>\n",
       "    </tr>\n",
       "  </thead>\n",
       "  <tbody>\n",
       "    <tr>\n",
       "      <th>0</th>\n",
       "      <td>$ALLY - Ally Financial pulls outlook https://t...</td>\n",
       "      <td>0</td>\n",
       "    </tr>\n",
       "    <tr>\n",
       "      <th>1</th>\n",
       "      <td>$DELL $HPE - Dell, HPE targets trimmed on comp...</td>\n",
       "      <td>0</td>\n",
       "    </tr>\n",
       "    <tr>\n",
       "      <th>2</th>\n",
       "      <td>$PRTY - Moody's turns negative on Party City h...</td>\n",
       "      <td>0</td>\n",
       "    </tr>\n",
       "    <tr>\n",
       "      <th>3</th>\n",
       "      <td>$SAN: Deutsche Bank cuts to Hold</td>\n",
       "      <td>0</td>\n",
       "    </tr>\n",
       "    <tr>\n",
       "      <th>4</th>\n",
       "      <td>$SITC: Compass Point cuts to Sell</td>\n",
       "      <td>0</td>\n",
       "    </tr>\n",
       "  </tbody>\n",
       "</table>\n",
       "</div>"
      ],
      "text/plain": [
       "                                                text  label\n",
       "0  $ALLY - Ally Financial pulls outlook https://t...      0\n",
       "1  $DELL $HPE - Dell, HPE targets trimmed on comp...      0\n",
       "2  $PRTY - Moody's turns negative on Party City h...      0\n",
       "3                   $SAN: Deutsche Bank cuts to Hold      0\n",
       "4                  $SITC: Compass Point cuts to Sell      0"
      ]
     },
     "execution_count": 8,
     "metadata": {},
     "output_type": "execute_result"
    }
   ],
   "source": [
    "df_6.head()\n"
   ]
  },
  {
   "cell_type": "code",
   "execution_count": 9,
   "id": "f55d28c7",
   "metadata": {},
   "outputs": [
    {
     "data": {
      "text/html": [
       "<div>\n",
       "<style scoped>\n",
       "    .dataframe tbody tr th:only-of-type {\n",
       "        vertical-align: middle;\n",
       "    }\n",
       "\n",
       "    .dataframe tbody tr th {\n",
       "        vertical-align: top;\n",
       "    }\n",
       "\n",
       "    .dataframe thead th {\n",
       "        text-align: right;\n",
       "    }\n",
       "</style>\n",
       "<table border=\"1\" class=\"dataframe\">\n",
       "  <thead>\n",
       "    <tr style=\"text-align: right;\">\n",
       "      <th></th>\n",
       "      <th>Sentence</th>\n",
       "      <th>Sentiment</th>\n",
       "    </tr>\n",
       "  </thead>\n",
       "  <tbody>\n",
       "    <tr>\n",
       "      <th>0</th>\n",
       "      <td>The GeoSolutions technology will leverage Bene...</td>\n",
       "      <td>positive</td>\n",
       "    </tr>\n",
       "    <tr>\n",
       "      <th>1</th>\n",
       "      <td>$ESI on lows, down $1.50 to $2.50 BK a real po...</td>\n",
       "      <td>negative</td>\n",
       "    </tr>\n",
       "    <tr>\n",
       "      <th>2</th>\n",
       "      <td>For the last quarter of 2010 , Componenta 's n...</td>\n",
       "      <td>positive</td>\n",
       "    </tr>\n",
       "    <tr>\n",
       "      <th>3</th>\n",
       "      <td>According to the Finnish-Russian Chamber of Co...</td>\n",
       "      <td>neutral</td>\n",
       "    </tr>\n",
       "    <tr>\n",
       "      <th>4</th>\n",
       "      <td>The Swedish buyout firm has sold its remaining...</td>\n",
       "      <td>neutral</td>\n",
       "    </tr>\n",
       "  </tbody>\n",
       "</table>\n",
       "</div>"
      ],
      "text/plain": [
       "                                            Sentence Sentiment\n",
       "0  The GeoSolutions technology will leverage Bene...  positive\n",
       "1  $ESI on lows, down $1.50 to $2.50 BK a real po...  negative\n",
       "2  For the last quarter of 2010 , Componenta 's n...  positive\n",
       "3  According to the Finnish-Russian Chamber of Co...   neutral\n",
       "4  The Swedish buyout firm has sold its remaining...   neutral"
      ]
     },
     "execution_count": 9,
     "metadata": {},
     "output_type": "execute_result"
    }
   ],
   "source": [
    "df_7.head()\n",
    "\n"
   ]
  },
  {
   "cell_type": "markdown",
   "id": "a199209a",
   "metadata": {},
   "source": [
    "<font size=\"3\">In this Section the Data is Cleaned and Combined into a Single Dataframe 'combined_df'</font>"
   ]
  },
  {
   "cell_type": "code",
   "execution_count": 10,
   "id": "9f0acd84",
   "metadata": {},
   "outputs": [
    {
     "data": {
      "text/html": [
       "<div>\n",
       "<style scoped>\n",
       "    .dataframe tbody tr th:only-of-type {\n",
       "        vertical-align: middle;\n",
       "    }\n",
       "\n",
       "    .dataframe tbody tr th {\n",
       "        vertical-align: top;\n",
       "    }\n",
       "\n",
       "    .dataframe thead th {\n",
       "        text-align: right;\n",
       "    }\n",
       "</style>\n",
       "<table border=\"1\" class=\"dataframe\">\n",
       "  <thead>\n",
       "    <tr style=\"text-align: right;\">\n",
       "      <th></th>\n",
       "      <th>Sentence</th>\n",
       "      <th>Sentiment</th>\n",
       "    </tr>\n",
       "  </thead>\n",
       "  <tbody>\n",
       "    <tr>\n",
       "      <th>10748</th>\n",
       "      <td>Negative on Chambal, Advanta: Mitesh Thacker</td>\n",
       "      <td>{\"Chambal\": \"negative\", \"Advanta\": \"negative\"}</td>\n",
       "    </tr>\n",
       "    <tr>\n",
       "      <th>10749</th>\n",
       "      <td>Small, Mid-cap stocks may emerge outperformers</td>\n",
       "      <td>{\"Small\": \"positive\", \"Mid-cap stocks\": \"posit...</td>\n",
       "    </tr>\n",
       "    <tr>\n",
       "      <th>10750</th>\n",
       "      <td>Rupee slips against US dollar</td>\n",
       "      <td>{\"Rupee\": \"negative\", \"US dollar\": \"neutral\"}</td>\n",
       "    </tr>\n",
       "    <tr>\n",
       "      <th>10751</th>\n",
       "      <td>Rupee weak against US dollar</td>\n",
       "      <td>{\"Rupee\": \"negative\", \"US dollar\": \"neutral\"}</td>\n",
       "    </tr>\n",
       "    <tr>\n",
       "      <th>10752</th>\n",
       "      <td>Australia shares flat; energy drags</td>\n",
       "      <td>{\"Australia shares\": \"neutral\", \"energy\": \"neu...</td>\n",
       "    </tr>\n",
       "  </tbody>\n",
       "</table>\n",
       "</div>"
      ],
      "text/plain": [
       "                                             Sentence  \\\n",
       "10748    Negative on Chambal, Advanta: Mitesh Thacker   \n",
       "10749  Small, Mid-cap stocks may emerge outperformers   \n",
       "10750                   Rupee slips against US dollar   \n",
       "10751                    Rupee weak against US dollar   \n",
       "10752             Australia shares flat; energy drags   \n",
       "\n",
       "                                               Sentiment  \n",
       "10748     {\"Chambal\": \"negative\", \"Advanta\": \"negative\"}  \n",
       "10749  {\"Small\": \"positive\", \"Mid-cap stocks\": \"posit...  \n",
       "10750      {\"Rupee\": \"negative\", \"US dollar\": \"neutral\"}  \n",
       "10751      {\"Rupee\": \"negative\", \"US dollar\": \"neutral\"}  \n",
       "10752  {\"Australia shares\": \"neutral\", \"energy\": \"neu...  "
      ]
     },
     "execution_count": 10,
     "metadata": {},
     "output_type": "execute_result"
    }
   ],
   "source": [
    "# df\n",
    "\n",
    "# Getting relevant columns from 'df'\n",
    "df=df[['Title','Decisions']]\n",
    "df=df.rename(columns={'Title':'Sentence','Decisions':'Sentiment'})\n",
    "df.tail()\n",
    "\n"
   ]
  },
  {
   "cell_type": "code",
   "execution_count": 11,
   "id": "cee94d56",
   "metadata": {},
   "outputs": [],
   "source": [
    "# This code extracts the sentiment from the sentiment column. If there are both postive and negative sentiments\n",
    "# then it replaces the entry with -1 otherwise it will choose 2 if positive or 0 if negative.\n",
    "# neutral are set to 1.\n",
    "\n",
    "for index, row in df.iterrows():\n",
    "    dictionary = ast.literal_eval(row[1]) # converting strings to dictionaries\n",
    "    keys=list(dictionary.keys()) \n",
    "    neg = False\n",
    "    pos = False\n",
    "    for key in keys:\n",
    "        if dictionary[key]=='negative':\n",
    "            neg = True\n",
    "        if dictionary[key]=='positive':\n",
    "            pos = True\n",
    "    if neg and pos:\n",
    "        row[1]=-1\n",
    "    elif neg and not pos:\n",
    "        row[1]=0\n",
    "    elif pos and not neg:\n",
    "        row[1]=2\n",
    "    elif not pos and not neg:\n",
    "        row[1]=1\n",
    "        \n",
    "        \n"
   ]
  },
  {
   "cell_type": "code",
   "execution_count": 12,
   "id": "cfba14da",
   "metadata": {},
   "outputs": [
    {
     "data": {
      "text/plain": [
       " 2    4014\n",
       " 1    3443\n",
       " 0    3140\n",
       "-1     156\n",
       "Name: Sentiment, dtype: int64"
      ]
     },
     "execution_count": 12,
     "metadata": {},
     "output_type": "execute_result"
    }
   ],
   "source": [
    "# Checking for -1 rows\n",
    "\n",
    "df['Sentiment'].value_counts()\n",
    "\n"
   ]
  },
  {
   "cell_type": "code",
   "execution_count": 13,
   "id": "241783b8",
   "metadata": {},
   "outputs": [
    {
     "data": {
      "text/plain": [
       "2    4014\n",
       "1    3443\n",
       "0    3140\n",
       "Name: Sentiment, dtype: int64"
      ]
     },
     "execution_count": 13,
     "metadata": {},
     "output_type": "execute_result"
    }
   ],
   "source": [
    "# removing -1 rows\n",
    "\n",
    "df=df[df['Sentiment']!=-1]\n",
    "df['Sentiment'].value_counts()\n",
    "\n"
   ]
  },
  {
   "cell_type": "code",
   "execution_count": 14,
   "id": "52e49d15",
   "metadata": {},
   "outputs": [
    {
     "data": {
      "text/html": [
       "<div>\n",
       "<style scoped>\n",
       "    .dataframe tbody tr th:only-of-type {\n",
       "        vertical-align: middle;\n",
       "    }\n",
       "\n",
       "    .dataframe tbody tr th {\n",
       "        vertical-align: top;\n",
       "    }\n",
       "\n",
       "    .dataframe thead th {\n",
       "        text-align: right;\n",
       "    }\n",
       "</style>\n",
       "<table border=\"1\" class=\"dataframe\">\n",
       "  <thead>\n",
       "    <tr style=\"text-align: right;\">\n",
       "      <th></th>\n",
       "      <th>Sentence</th>\n",
       "      <th>Sentiment</th>\n",
       "    </tr>\n",
       "  </thead>\n",
       "  <tbody>\n",
       "    <tr>\n",
       "      <th>0</th>\n",
       "      <td>Markets Close Mostly Lower Again; ROST, PANW R...</td>\n",
       "      <td>0</td>\n",
       "    </tr>\n",
       "    <tr>\n",
       "      <th>1</th>\n",
       "      <td>Gap plummets on earnings miss, cuts full-year ...</td>\n",
       "      <td>0</td>\n",
       "    </tr>\n",
       "    <tr>\n",
       "      <th>2</th>\n",
       "      <td>Billionaire Ken Fisher is Selling These 10 Stocks</td>\n",
       "      <td>0</td>\n",
       "    </tr>\n",
       "    <tr>\n",
       "      <th>3</th>\n",
       "      <td>Corning net income drops 13%, shares fall</td>\n",
       "      <td>0</td>\n",
       "    </tr>\n",
       "    <tr>\n",
       "      <th>4</th>\n",
       "      <td>Internet Explorer shutdown to cause Japan prob...</td>\n",
       "      <td>0</td>\n",
       "    </tr>\n",
       "  </tbody>\n",
       "</table>\n",
       "</div>"
      ],
      "text/plain": [
       "                                            Sentence  Sentiment\n",
       "0  Markets Close Mostly Lower Again; ROST, PANW R...          0\n",
       "1  Gap plummets on earnings miss, cuts full-year ...          0\n",
       "2  Billionaire Ken Fisher is Selling These 10 Stocks          0\n",
       "3          Corning net income drops 13%, shares fall          0\n",
       "4  Internet Explorer shutdown to cause Japan prob...          0"
      ]
     },
     "execution_count": 14,
     "metadata": {},
     "output_type": "execute_result"
    }
   ],
   "source": [
    "# df_2\n",
    "\n",
    "# getting relevant columns and renaming\n",
    "df_2 = df_2[['headline','label']].rename(columns={'headline':'Sentence','label':'Sentiment'})\n",
    "\n",
    "# changing sentiment column to numerical\n",
    "df_2['Sentiment'] = df_2['Sentiment'].apply(lambda x: 0 if x=='Negative' else (2 if x=='Positive' else 1))\n",
    "\n",
    "df_2.head()"
   ]
  },
  {
   "cell_type": "code",
   "execution_count": 15,
   "id": "5e91a836",
   "metadata": {},
   "outputs": [
    {
     "data": {
      "text/html": [
       "<div>\n",
       "<style scoped>\n",
       "    .dataframe tbody tr th:only-of-type {\n",
       "        vertical-align: middle;\n",
       "    }\n",
       "\n",
       "    .dataframe tbody tr th {\n",
       "        vertical-align: top;\n",
       "    }\n",
       "\n",
       "    .dataframe thead th {\n",
       "        text-align: right;\n",
       "    }\n",
       "</style>\n",
       "<table border=\"1\" class=\"dataframe\">\n",
       "  <thead>\n",
       "    <tr style=\"text-align: right;\">\n",
       "      <th></th>\n",
       "      <th>Sentence</th>\n",
       "      <th>Sentiment</th>\n",
       "    </tr>\n",
       "  </thead>\n",
       "  <tbody>\n",
       "    <tr>\n",
       "      <th>0</th>\n",
       "      <td>According to Gran , the company has no plans t...</td>\n",
       "      <td>1</td>\n",
       "    </tr>\n",
       "    <tr>\n",
       "      <th>1</th>\n",
       "      <td>Technopolis plans to develop in stages an area...</td>\n",
       "      <td>1</td>\n",
       "    </tr>\n",
       "    <tr>\n",
       "      <th>2</th>\n",
       "      <td>The international electronic industry company ...</td>\n",
       "      <td>0</td>\n",
       "    </tr>\n",
       "    <tr>\n",
       "      <th>3</th>\n",
       "      <td>With the new production plant the company woul...</td>\n",
       "      <td>2</td>\n",
       "    </tr>\n",
       "    <tr>\n",
       "      <th>4</th>\n",
       "      <td>According to the company 's updated strategy f...</td>\n",
       "      <td>2</td>\n",
       "    </tr>\n",
       "  </tbody>\n",
       "</table>\n",
       "</div>"
      ],
      "text/plain": [
       "                                            Sentence  Sentiment\n",
       "0  According to Gran , the company has no plans t...          1\n",
       "1  Technopolis plans to develop in stages an area...          1\n",
       "2  The international electronic industry company ...          0\n",
       "3  With the new production plant the company woul...          2\n",
       "4  According to the company 's updated strategy f...          2"
      ]
     },
     "execution_count": 15,
     "metadata": {},
     "output_type": "execute_result"
    }
   ],
   "source": [
    "# df_3\n",
    "\n",
    "# getting relevant headlines\n",
    "df_3 = df_3[[1,0]]\n",
    "\n",
    "# changing column names\n",
    "df_3 = df_3.rename(columns={1:'Sentence',0:'Sentiment'})\n",
    "\n",
    "# changing to numerical \n",
    "df_3['Sentiment'] = df_3['Sentiment'].apply(lambda x: 0 if x=='negative' else (2 if x=='positive' else 1))\n",
    "df_3.head()\n",
    "\n"
   ]
  },
  {
   "cell_type": "code",
   "execution_count": 16,
   "id": "20f5c1f3",
   "metadata": {},
   "outputs": [],
   "source": [
    "# df_4\n",
    "\n",
    "# rows 1-1000 and 2000-4000 are negative headlines, this was determined by looking through excel file manually :( \n",
    "\n",
    "first=df_4[0:1001]\n",
    "second=df_4[2000:4001]\n",
    "\n"
   ]
  },
  {
   "cell_type": "code",
   "execution_count": 17,
   "id": "eeec5c61",
   "metadata": {},
   "outputs": [
    {
     "data": {
      "text/html": [
       "<div>\n",
       "<style scoped>\n",
       "    .dataframe tbody tr th:only-of-type {\n",
       "        vertical-align: middle;\n",
       "    }\n",
       "\n",
       "    .dataframe tbody tr th {\n",
       "        vertical-align: top;\n",
       "    }\n",
       "\n",
       "    .dataframe thead th {\n",
       "        text-align: right;\n",
       "    }\n",
       "</style>\n",
       "<table border=\"1\" class=\"dataframe\">\n",
       "  <thead>\n",
       "    <tr style=\"text-align: right;\">\n",
       "      <th></th>\n",
       "      <th>Sentence</th>\n",
       "      <th>Sentiment</th>\n",
       "    </tr>\n",
       "  </thead>\n",
       "  <tbody>\n",
       "    <tr>\n",
       "      <th>0</th>\n",
       "      <td>‚ÄòI now fear the worst‚Äô: four grim tales of...</td>\n",
       "      <td>0</td>\n",
       "    </tr>\n",
       "    <tr>\n",
       "      <th>1</th>\n",
       "      <td>The Week in Patriarchy  \\n\\n\\n  Bacardi's 'lad...</td>\n",
       "      <td>0</td>\n",
       "    </tr>\n",
       "    <tr>\n",
       "      <th>2</th>\n",
       "      <td>Democratising finance for all? An investment a...</td>\n",
       "      <td>0</td>\n",
       "    </tr>\n",
       "    <tr>\n",
       "      <th>4</th>\n",
       "      <td>Ask and Zizzi to close 75 outlets, threatening...</td>\n",
       "      <td>0</td>\n",
       "    </tr>\n",
       "    <tr>\n",
       "      <th>6</th>\n",
       "      <td>BA begins to carry out its 'fire and rehire' t...</td>\n",
       "      <td>0</td>\n",
       "    </tr>\n",
       "  </tbody>\n",
       "</table>\n",
       "</div>"
      ],
      "text/plain": [
       "                                            Sentence  Sentiment\n",
       "0  ‚ÄòI now fear the worst‚Äô: four grim tales of...          0\n",
       "1  The Week in Patriarchy  \\n\\n\\n  Bacardi's 'lad...          0\n",
       "2  Democratising finance for all? An investment a...          0\n",
       "4  Ask and Zizzi to close 75 outlets, threatening...          0\n",
       "6  BA begins to carry out its 'fire and rehire' t...          0"
      ]
     },
     "execution_count": 17,
     "metadata": {},
     "output_type": "execute_result"
    }
   ],
   "source": [
    "# combining two dfs\n",
    "new_df_4 = pd.concat([first,second],axis=0)\n",
    "\n",
    "# adding column of zeros\n",
    "new_df_4['Sentiment'] = 3002*[0]\n",
    "\n",
    "# dropping NAs\n",
    "new_df_4 = new_df_4.dropna()\n",
    "\n",
    "# dropping rows with gaps remaining from manually deleting rows\n",
    "new_df_4 = new_df_4.drop(new_df_4[(new_df_4['Sentences'] ==\" \")].index)\n",
    "new_df_4 = new_df_4.drop(new_df_4[(new_df_4['Sentences'] ==\"  \")].index)\n",
    "\n",
    "# renaming columns\n",
    "new_df_4 = new_df_4.rename(columns={'Sentences':'Sentence'})\n",
    "new_df_4.head()\n",
    "\n",
    "\n"
   ]
  },
  {
   "cell_type": "code",
   "execution_count": 18,
   "id": "94ce87b2",
   "metadata": {},
   "outputs": [
    {
     "data": {
      "text/html": [
       "<div>\n",
       "<style scoped>\n",
       "    .dataframe tbody tr th:only-of-type {\n",
       "        vertical-align: middle;\n",
       "    }\n",
       "\n",
       "    .dataframe tbody tr th {\n",
       "        vertical-align: top;\n",
       "    }\n",
       "\n",
       "    .dataframe thead th {\n",
       "        text-align: right;\n",
       "    }\n",
       "</style>\n",
       "<table border=\"1\" class=\"dataframe\">\n",
       "  <thead>\n",
       "    <tr style=\"text-align: right;\">\n",
       "      <th></th>\n",
       "      <th>Sentence</th>\n",
       "      <th>Sentiment</th>\n",
       "    </tr>\n",
       "  </thead>\n",
       "  <tbody>\n",
       "    <tr>\n",
       "      <th>0</th>\n",
       "      <td>$BYND - JPMorgan reels in expectations on Beyo...</td>\n",
       "      <td>0</td>\n",
       "    </tr>\n",
       "    <tr>\n",
       "      <th>1</th>\n",
       "      <td>$CCL $RCL - Nomura points to bookings weakness...</td>\n",
       "      <td>0</td>\n",
       "    </tr>\n",
       "    <tr>\n",
       "      <th>2</th>\n",
       "      <td>$CX - Cemex cut at Credit Suisse, J.P. Morgan ...</td>\n",
       "      <td>0</td>\n",
       "    </tr>\n",
       "    <tr>\n",
       "      <th>3</th>\n",
       "      <td>$ESS: BTIG Research cuts to Neutral https://t....</td>\n",
       "      <td>0</td>\n",
       "    </tr>\n",
       "    <tr>\n",
       "      <th>4</th>\n",
       "      <td>$FNKO - Funko slides after Piper Jaffray PT cu...</td>\n",
       "      <td>0</td>\n",
       "    </tr>\n",
       "  </tbody>\n",
       "</table>\n",
       "</div>"
      ],
      "text/plain": [
       "                                            Sentence  Sentiment\n",
       "0  $BYND - JPMorgan reels in expectations on Beyo...          0\n",
       "1  $CCL $RCL - Nomura points to bookings weakness...          0\n",
       "2  $CX - Cemex cut at Credit Suisse, J.P. Morgan ...          0\n",
       "3  $ESS: BTIG Research cuts to Neutral https://t....          0\n",
       "4  $FNKO - Funko slides after Piper Jaffray PT cu...          0"
      ]
     },
     "execution_count": 18,
     "metadata": {},
     "output_type": "execute_result"
    }
   ],
   "source": [
    "# df_5 and df_6\n",
    "\n",
    "# This dataframe has labels 0-bearish, 1-bullish and 2-neutral\n",
    "\n",
    "# we can combine df_5 and df_6 \n",
    "df_5_6_comb = pd.concat([df_5,df_6],axis=0).reset_index(drop=True).rename(columns={'text':'Sentence','label':'Sentiment'})\n",
    "\n",
    "# changing labels to our labelling \n",
    "df_5_6_comb['Sentiment'] = df_5_6_comb['Sentiment'].apply(lambda x: 2 if x==1 else (1 if x==2 else 0))\n",
    "\n",
    "df_5_6_comb.head()\n",
    "\n"
   ]
  },
  {
   "cell_type": "code",
   "execution_count": 19,
   "id": "dce7cfc6",
   "metadata": {},
   "outputs": [
    {
     "data": {
      "text/html": [
       "<div>\n",
       "<style scoped>\n",
       "    .dataframe tbody tr th:only-of-type {\n",
       "        vertical-align: middle;\n",
       "    }\n",
       "\n",
       "    .dataframe tbody tr th {\n",
       "        vertical-align: top;\n",
       "    }\n",
       "\n",
       "    .dataframe thead th {\n",
       "        text-align: right;\n",
       "    }\n",
       "</style>\n",
       "<table border=\"1\" class=\"dataframe\">\n",
       "  <thead>\n",
       "    <tr style=\"text-align: right;\">\n",
       "      <th></th>\n",
       "      <th>Sentence</th>\n",
       "      <th>Sentiment</th>\n",
       "    </tr>\n",
       "  </thead>\n",
       "  <tbody>\n",
       "    <tr>\n",
       "      <th>0</th>\n",
       "      <td>The GeoSolutions technology will leverage Bene...</td>\n",
       "      <td>2</td>\n",
       "    </tr>\n",
       "    <tr>\n",
       "      <th>1</th>\n",
       "      <td>$ESI on lows, down $1.50 to $2.50 BK a real po...</td>\n",
       "      <td>0</td>\n",
       "    </tr>\n",
       "    <tr>\n",
       "      <th>2</th>\n",
       "      <td>For the last quarter of 2010 , Componenta 's n...</td>\n",
       "      <td>2</td>\n",
       "    </tr>\n",
       "    <tr>\n",
       "      <th>3</th>\n",
       "      <td>According to the Finnish-Russian Chamber of Co...</td>\n",
       "      <td>1</td>\n",
       "    </tr>\n",
       "    <tr>\n",
       "      <th>4</th>\n",
       "      <td>The Swedish buyout firm has sold its remaining...</td>\n",
       "      <td>1</td>\n",
       "    </tr>\n",
       "  </tbody>\n",
       "</table>\n",
       "</div>"
      ],
      "text/plain": [
       "                                            Sentence  Sentiment\n",
       "0  The GeoSolutions technology will leverage Bene...          2\n",
       "1  $ESI on lows, down $1.50 to $2.50 BK a real po...          0\n",
       "2  For the last quarter of 2010 , Componenta 's n...          2\n",
       "3  According to the Finnish-Russian Chamber of Co...          1\n",
       "4  The Swedish buyout firm has sold its remaining...          1"
      ]
     },
     "execution_count": 19,
     "metadata": {},
     "output_type": "execute_result"
    }
   ],
   "source": [
    "# df_7 \n",
    "\n",
    "# df_7 changing sentiment column to numeric\n",
    "df_7['Sentiment'] = df_7['Sentiment'].apply(lambda x: 2 if x=='positive' else (1 if x=='neutral' else 0))\n",
    "\n",
    "df_7.head()"
   ]
  },
  {
   "cell_type": "code",
   "execution_count": 20,
   "id": "aa6e92ff",
   "metadata": {},
   "outputs": [
    {
     "data": {
      "text/html": [
       "<div>\n",
       "<style scoped>\n",
       "    .dataframe tbody tr th:only-of-type {\n",
       "        vertical-align: middle;\n",
       "    }\n",
       "\n",
       "    .dataframe tbody tr th {\n",
       "        vertical-align: top;\n",
       "    }\n",
       "\n",
       "    .dataframe thead th {\n",
       "        text-align: right;\n",
       "    }\n",
       "</style>\n",
       "<table border=\"1\" class=\"dataframe\">\n",
       "  <thead>\n",
       "    <tr style=\"text-align: right;\">\n",
       "      <th></th>\n",
       "      <th>Sentence</th>\n",
       "      <th>Sentiment</th>\n",
       "    </tr>\n",
       "  </thead>\n",
       "  <tbody>\n",
       "    <tr>\n",
       "      <th>0</th>\n",
       "      <td>SpiceJet to issue 6.4 crore warrants to promoters</td>\n",
       "      <td>1</td>\n",
       "    </tr>\n",
       "    <tr>\n",
       "      <th>1</th>\n",
       "      <td>MMTC Q2 net loss at Rs 10.4 crore</td>\n",
       "      <td>1</td>\n",
       "    </tr>\n",
       "    <tr>\n",
       "      <th>2</th>\n",
       "      <td>Mid-cap funds can deliver more, stay put: Experts</td>\n",
       "      <td>2</td>\n",
       "    </tr>\n",
       "    <tr>\n",
       "      <th>3</th>\n",
       "      <td>Mid caps now turn into market darlings</td>\n",
       "      <td>2</td>\n",
       "    </tr>\n",
       "    <tr>\n",
       "      <th>4</th>\n",
       "      <td>Market seeing patience, if not conviction: Pra...</td>\n",
       "      <td>1</td>\n",
       "    </tr>\n",
       "  </tbody>\n",
       "</table>\n",
       "</div>"
      ],
      "text/plain": [
       "                                            Sentence Sentiment\n",
       "0  SpiceJet to issue 6.4 crore warrants to promoters         1\n",
       "1                  MMTC Q2 net loss at Rs 10.4 crore         1\n",
       "2  Mid-cap funds can deliver more, stay put: Experts         2\n",
       "3             Mid caps now turn into market darlings         2\n",
       "4  Market seeing patience, if not conviction: Pra...         1"
      ]
     },
     "execution_count": 20,
     "metadata": {},
     "output_type": "execute_result"
    }
   ],
   "source": [
    "# combining df's\n",
    "\n",
    "combined_df = pd.concat([df,df_2,df_3,new_df_4,df_5_6_comb,df_7],axis=0).reset_index(drop=True)\n",
    "\n",
    "combined_df.head()"
   ]
  },
  {
   "cell_type": "code",
   "execution_count": 21,
   "id": "a5cfc7d5",
   "metadata": {},
   "outputs": [
    {
     "name": "stderr",
     "output_type": "stream",
     "text": [
      "/var/folders/zf/3rfg40gs4wb4gs28x6t60tg40000gn/T/ipykernel_97671/2971330147.py:22: FutureWarning: The default value of regex will change from True to False in a future version.\n",
      "  combined_df['Sentence'] = combined_df['Sentence'].str.replace(\"We Need to Talk About...  Guardian podcast:\",\"\")\n"
     ]
    }
   ],
   "source": [
    "# cleaning combined_df\n",
    "\n",
    "combined_df = combined_df.dropna()\n",
    "combined_df = combined_df.drop_duplicates()\n",
    "combined_df = combined_df.reset_index(drop=True)\n",
    "\n",
    "# removing gaps and other irrelevant strings\n",
    "combined_df['Sentence'] = combined_df['Sentence'].str.replace(\"Project Syndicate economists\",\"\")\n",
    "combined_df['Sentence'] = combined_df['Sentence'].str.replace(\"Observer business agenda\",\"\")\n",
    "combined_df['Sentence'] = combined_df['Sentence'].str.replace(\"Money talks\",\"\")\n",
    "combined_df['Sentence'] = combined_df['Sentence'].str.replace(\"- live!\",\"\")\n",
    "combined_df['Sentence'] = combined_df['Sentence'].str.replace(\"William Keegan's in my view\",\"\")\n",
    "combined_df['Sentence'] = combined_df['Sentence'].str.replace(\"- study\",\"\")\n",
    "combined_df['Sentence'] = combined_df['Sentence'].str.replace(\"- business live\",\"\")\n",
    "combined_df['Sentence'] = combined_df['Sentence'].str.replace(\"- as it happened\",\"\")\n",
    "combined_df['Sentence'] = combined_df['Sentence'].str.replace(\"- report\",\"\")\n",
    "combined_df['Sentence'] = combined_df['Sentence'].str.replace(\"Brexit weekly briefing\",\"\")\n",
    "combined_df['Sentence'] = combined_df['Sentence'].str.replace(\"The long read\",\"\")\n",
    "combined_df['Sentence'] = combined_df['Sentence'].str.replace(\"The Observer view:\",\"\")\n",
    "combined_df['Sentence'] = combined_df['Sentence'].str.replace(\"Today in Focus\",\"\")\n",
    "combined_df['Sentence'] = combined_df['Sentence'].str.replace(\"Spotify live\",\"\")\n",
    "combined_df['Sentence'] = combined_df['Sentence'].str.replace(\"We Need to Talk About...  Guardian podcast:\",\"\")\n",
    "combined_df['Sentence'] = combined_df['Sentence'].str.replace(\"Nils Pratley on finance\",\"\")\n",
    "combined_df['Sentence'] = combined_df['Sentence'].str.replace(\"Business live\",\"\")\n",
    "combined_df['Sentence'] = combined_df['Sentence'].str.replace(\"Today in Focus\",\"\")\n",
    "combined_df['Sentence'] = combined_df['Sentence'].str.replace(\"Politics live with Andrew Sparrow\",\"\")\n",
    "combined_df['Sentence'] = combined_df['Sentence'].str.replace(\"Business live\",\"\")\n",
    "combined_df['Sentence'] = combined_df['Sentence'].str.replace(\"UPDATE --\",\"\")\n",
    "combined_df['Sentence'] = combined_df['Sentence'].str.replace(\"user\",\"\")\n",
    "combined_df['Sentence'] = combined_df['Sentence'].str.lower()"
   ]
  },
  {
   "cell_type": "code",
   "execution_count": 22,
   "id": "d56342ea",
   "metadata": {},
   "outputs": [
    {
     "data": {
      "text/plain": [
       "1    23427\n",
       "2    20922\n",
       "0    13240\n",
       "Name: Sentiment, dtype: int64"
      ]
     },
     "execution_count": 22,
     "metadata": {},
     "output_type": "execute_result"
    }
   ],
   "source": [
    "combined_df['Sentiment'].value_counts()"
   ]
  },
  {
   "cell_type": "code",
   "execution_count": 23,
   "id": "0a4e1ff1",
   "metadata": {},
   "outputs": [],
   "source": [
    "# removing urls \n",
    "\n",
    "combined_df['Sentence'] = combined_df['Sentence'].str.replace(r'http\\S+', '', regex=True)"
   ]
  },
  {
   "cell_type": "code",
   "execution_count": 24,
   "id": "7c7f4e86",
   "metadata": {},
   "outputs": [],
   "source": [
    "# Removing tickers, i.e, $BYND \n",
    "\n",
    "alphabet = ['A','B','C','D','E','F','G','H','I','J','K','L','M','N','O','P','Q','R','S','T','U','V','W','X','Y','Z']\n",
    "\n",
    "\n",
    "for index,row in combined_df.iterrows():\n",
    "    if row[0].__contains__('$'):\n",
    "        List = row[0].split()\n",
    "        Ticker = []\n",
    "        for word in List:\n",
    "            if '$' in word:\n",
    "                try:\n",
    "                    if word[1] in alphabet:\n",
    "                        Ticker.append(word)\n",
    "                except:\n",
    "                    continue\n",
    "        for i in range(len(Ticker)):\n",
    "            List.remove(Ticker[i])\n",
    "        combined_df.loc[index, 'Sentence'] = ' '.join(List)\n",
    "                    "
   ]
  },
  {
   "cell_type": "code",
   "execution_count": 25,
   "id": "28949bca",
   "metadata": {},
   "outputs": [],
   "source": [
    "# removing rows with blank sentence entry\n",
    "\n",
    "combined_df = combined_df[combined_df['Sentiment']!=\"\"]"
   ]
  },
  {
   "cell_type": "code",
   "execution_count": 26,
   "id": "f7d64c7e",
   "metadata": {
    "scrolled": true
   },
   "outputs": [],
   "source": [
    "# seeing whether any urls remain\n",
    "\n",
    "for index,row in combined_df.iterrows():\n",
    "    if row[0].__contains__('http'):\n",
    "        print(index)"
   ]
  },
  {
   "cell_type": "code",
   "execution_count": 27,
   "id": "fb1d558d",
   "metadata": {},
   "outputs": [
    {
     "name": "stderr",
     "output_type": "stream",
     "text": [
      "/var/folders/zf/3rfg40gs4wb4gs28x6t60tg40000gn/T/ipykernel_97671/3782587725.py:6: FutureWarning: The default value of regex will change from True to False in a future version. In addition, single character regular expressions will *not* be treated as literal strings when regex=True.\n",
      "  combined_df['Sentence'] = combined_df['Sentence'].str.replace(char,\"\")\n"
     ]
    }
   ],
   "source": [
    "# removing non-alphanumeric characters\n",
    "\n",
    "non_alphanum = [',','.','/','\"',':',';','!','@','#','$','%',\"'\",\"*\",\"(\",\")\",\"&\",\"--\",\"Ä\",\"À\",\"\\n\",\\\n",
    "                \"ô\",\"ì\",\"ò\",\"¶\",\"¬\",\"√\",\"©\",\"â\",\"€\",\"™\",\"õ\",\"deck130216c40\",\"`\",\"~\",\"?\",\"®\"]\n",
    "for char in non_alphanum:\n",
    "    combined_df['Sentence'] = combined_df['Sentence'].str.replace(char,\"\")\n"
   ]
  },
  {
   "cell_type": "code",
   "execution_count": 28,
   "id": "9b346dc5",
   "metadata": {},
   "outputs": [],
   "source": [
    "# removing other irrelevant strings\n",
    "\n",
    "\n",
    "combined_df['Sentence'] = combined_df['Sentence'].str.replace(\" eur \",\" \")\n",
    "combined_df['Sentence'] = combined_df['Sentence'].str.replace(\" crore \",\" \")\n",
    "combined_df['Sentence'] = combined_df['Sentence'].str.replace(\" rs \",\" \")\n",
    "combined_df['Sentence'] = combined_df['Sentence'].str.replace(\" cr \",\" \")\n",
    "combined_df['Sentence'] = combined_df['Sentence'].str.replace(\" mn \",\" \")\n",
    "combined_df['Sentence'] = combined_df['Sentence'].str.replace(\"-\",\" \")\n",
    "combined_df['Sentence'] = combined_df['Sentence'].str.replace(\" - \",\" \")\n",
    "\n"
   ]
  },
  {
   "cell_type": "code",
   "execution_count": 29,
   "id": "6f29117d",
   "metadata": {},
   "outputs": [],
   "source": [
    "# sampling from dataframe to shuffle \n",
    "\n",
    "combined_df = combined_df.sample(frac=1)\n"
   ]
  },
  {
   "cell_type": "code",
   "execution_count": 30,
   "id": "b7e1982e",
   "metadata": {},
   "outputs": [],
   "source": [
    "combined_df.to_csv('Cleaned_data/combined.csv',index=False)\n",
    "       "
   ]
  }
 ],
 "metadata": {
  "kernelspec": {
   "display_name": "Python 3 (ipykernel)",
   "language": "python",
   "name": "python3"
  },
  "language_info": {
   "codemirror_mode": {
    "name": "ipython",
    "version": 3
   },
   "file_extension": ".py",
   "mimetype": "text/x-python",
   "name": "python",
   "nbconvert_exporter": "python",
   "pygments_lexer": "ipython3",
   "version": "3.10.11"
  }
 },
 "nbformat": 4,
 "nbformat_minor": 5
}
