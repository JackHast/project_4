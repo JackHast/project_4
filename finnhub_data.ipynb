{
 "cells": [
  {
   "cell_type": "code",
   "execution_count": 43,
   "metadata": {},
   "outputs": [
    {
     "data": {
      "text/html": [
       "<div>\n",
       "<style scoped>\n",
       "    .dataframe tbody tr th:only-of-type {\n",
       "        vertical-align: middle;\n",
       "    }\n",
       "\n",
       "    .dataframe tbody tr th {\n",
       "        vertical-align: top;\n",
       "    }\n",
       "\n",
       "    .dataframe thead th {\n",
       "        text-align: right;\n",
       "    }\n",
       "</style>\n",
       "<table border=\"1\" class=\"dataframe\">\n",
       "  <thead>\n",
       "    <tr style=\"text-align: right;\">\n",
       "      <th></th>\n",
       "      <th>category</th>\n",
       "      <th>datetime</th>\n",
       "      <th>headline</th>\n",
       "      <th>id</th>\n",
       "      <th>image</th>\n",
       "      <th>related</th>\n",
       "      <th>source</th>\n",
       "      <th>summary</th>\n",
       "      <th>url</th>\n",
       "    </tr>\n",
       "  </thead>\n",
       "  <tbody>\n",
       "    <tr>\n",
       "      <th>0</th>\n",
       "      <td>top news</td>\n",
       "      <td>1698673166</td>\n",
       "      <td>Jim Cramer's top 10 things to watch in the sto...</td>\n",
       "      <td>7314212</td>\n",
       "      <td>https://image.cnbcfm.com/api/v1/image/10732473...</td>\n",
       "      <td>NaN</td>\n",
       "      <td>CNBC</td>\n",
       "      <td>We now care more about the Treasury's funding ...</td>\n",
       "      <td>https://www.cnbc.com/2023/10/30/jim-cramers-to...</td>\n",
       "    </tr>\n",
       "    <tr>\n",
       "      <th>1</th>\n",
       "      <td>top news</td>\n",
       "      <td>1698673100</td>\n",
       "      <td>Here are 16 stocks Jim Cramer is watching, inc...</td>\n",
       "      <td>7314235</td>\n",
       "      <td>https://image.cnbcfm.com/api/v1/image/10495570...</td>\n",
       "      <td>NaN</td>\n",
       "      <td>CNBC</td>\n",
       "      <td>Here are some of the tickers on Jim's radar fo...</td>\n",
       "      <td>https://www.cnbc.com/2023/10/30/here-are-16-st...</td>\n",
       "    </tr>\n",
       "    <tr>\n",
       "      <th>2</th>\n",
       "      <td>top news</td>\n",
       "      <td>1698670801</td>\n",
       "      <td>This financial coach tells clients to use pen ...</td>\n",
       "      <td>7314200</td>\n",
       "      <td>https://image.cnbcfm.com/api/v1/image/10732401...</td>\n",
       "      <td>NaN</td>\n",
       "      <td>CNBC</td>\n",
       "      <td>Financial coach Alaina Fingal tells her client...</td>\n",
       "      <td>https://www.cnbc.com/2023/10/30/why-this-finan...</td>\n",
       "    </tr>\n",
       "    <tr>\n",
       "      <th>3</th>\n",
       "      <td>top news</td>\n",
       "      <td>1698669608</td>\n",
       "      <td>Israel-Hamas war and rocket attacks are leadin...</td>\n",
       "      <td>7314184</td>\n",
       "      <td>https://image.cnbcfm.com/api/v1/image/10732530...</td>\n",
       "      <td>NaN</td>\n",
       "      <td>CNBC</td>\n",
       "      <td>Oil tankers are going dark in waters off Israe...</td>\n",
       "      <td>https://www.cnbc.com/2023/10/30/israel-hamas-w...</td>\n",
       "    </tr>\n",
       "    <tr>\n",
       "      <th>4</th>\n",
       "      <td>business</td>\n",
       "      <td>1698667405</td>\n",
       "      <td>'Five Nights at Freddy's' rides PG-13 rating, ...</td>\n",
       "      <td>7314175</td>\n",
       "      <td>https://image.cnbcfm.com/api/v1/image/10732527...</td>\n",
       "      <td>NaN</td>\n",
       "      <td>CNBC</td>\n",
       "      <td>\"Five Nights at Freddy's\" scored a 26% \"rotten...</td>\n",
       "      <td>https://www.cnbc.com/2023/10/30/five-nights-at...</td>\n",
       "    </tr>\n",
       "  </tbody>\n",
       "</table>\n",
       "</div>"
      ],
      "text/plain": [
       "   category    datetime                                           headline  \\\n",
       "0  top news  1698673166  Jim Cramer's top 10 things to watch in the sto...   \n",
       "1  top news  1698673100  Here are 16 stocks Jim Cramer is watching, inc...   \n",
       "2  top news  1698670801  This financial coach tells clients to use pen ...   \n",
       "3  top news  1698669608  Israel-Hamas war and rocket attacks are leadin...   \n",
       "4  business  1698667405  'Five Nights at Freddy's' rides PG-13 rating, ...   \n",
       "\n",
       "        id                                              image  related source  \\\n",
       "0  7314212  https://image.cnbcfm.com/api/v1/image/10732473...      NaN   CNBC   \n",
       "1  7314235  https://image.cnbcfm.com/api/v1/image/10495570...      NaN   CNBC   \n",
       "2  7314200  https://image.cnbcfm.com/api/v1/image/10732401...      NaN   CNBC   \n",
       "3  7314184  https://image.cnbcfm.com/api/v1/image/10732530...      NaN   CNBC   \n",
       "4  7314175  https://image.cnbcfm.com/api/v1/image/10732527...      NaN   CNBC   \n",
       "\n",
       "                                             summary  \\\n",
       "0  We now care more about the Treasury's funding ...   \n",
       "1  Here are some of the tickers on Jim's radar fo...   \n",
       "2  Financial coach Alaina Fingal tells her client...   \n",
       "3  Oil tankers are going dark in waters off Israe...   \n",
       "4  \"Five Nights at Freddy's\" scored a 26% \"rotten...   \n",
       "\n",
       "                                                 url  \n",
       "0  https://www.cnbc.com/2023/10/30/jim-cramers-to...  \n",
       "1  https://www.cnbc.com/2023/10/30/here-are-16-st...  \n",
       "2  https://www.cnbc.com/2023/10/30/why-this-finan...  \n",
       "3  https://www.cnbc.com/2023/10/30/israel-hamas-w...  \n",
       "4  https://www.cnbc.com/2023/10/30/five-nights-at...  "
      ]
     },
     "execution_count": 43,
     "metadata": {},
     "output_type": "execute_result"
    }
   ],
   "source": [
    "import pandas as pd\n",
    "df = pd.read_csv(\"finnhub_data.csv\")\n",
    "\n",
    "df.head()\n",
    "\n",
    "# headline_df = df[[\"headline\"]]\n",
    "\n",
    "# for headline in headline_df['headline'].iloc[0:37]:\n",
    "#     print(headline)"
   ]
  },
  {
   "cell_type": "code",
   "execution_count": 26,
   "metadata": {},
   "outputs": [
    {
     "name": "stderr",
     "output_type": "stream",
     "text": [
      "/var/folders/px/x65fp4pn31s5cv4gsbh_3cl80000gn/T/ipykernel_79849/2835176350.py:3: FutureWarning: The default value of regex will change from True to False in a future version. In addition, single character regular expressions will *not* be treated as literal strings when regex=True.\n",
      "  new_headlines = new_headlines.str.replace(char,\"\")\n"
     ]
    }
   ],
   "source": [
    "non_alphanum = [',','.','/','\"',':',';','!','@','#','$','%',\"'\",\"*\",\"(\",\")\",\"&\",\"--\"]\n",
    "for char in non_alphanum:\n",
    "  new_headlines = new_headlines.str.replace(char,\"\")\n",
    "\n",
    "new_headlines = new_headlines.str.replace(\" s \",\" \")\n",
    "new_headlines = new_headlines.str.replace(\" '\",\"'\")\n",
    "new_headlines = new_headlines.str.replace(\"  \",\" \")\n",
    "new_headlines = new_headlines.str.replace(\"   \",\" \")\n",
    "new_headlines = new_headlines.str.lower()"
   ]
  },
  {
   "cell_type": "code",
   "execution_count": 33,
   "metadata": {},
   "outputs": [],
   "source": [
    "X = new_headlines.to_numpy().reshape(-1, 1)"
   ]
  },
  {
   "cell_type": "code",
   "execution_count": null,
   "metadata": {},
   "outputs": [],
   "source": [
    "testing_sentences = []\n",
    "\n",
    "for i in X:\n",
    "    testing_sentences.append(i[0])\n"
   ]
  },
  {
   "cell_type": "code",
   "execution_count": null,
   "metadata": {},
   "outputs": [],
   "source": [
    "# importing tokenizer and pad_sequences\n",
    "\n",
    "from tensorflow.keras.preprocessing.text import Tokenizer\n",
    "from tensorflow.keras.preprocessing.sequence import pad_sequences\n",
    "\n",
    "# initialising tokenizer\n",
    "\n",
    "tokenizer = Tokenizer(num_words=10000, oov_token='####')"
   ]
  },
  {
   "cell_type": "code",
   "execution_count": null,
   "metadata": {},
   "outputs": [],
   "source": [
    "vocab_size = 10000\n",
    "embedding_dim = 16\n",
    "max_length = 100\n",
    "trunc_type='post'\n",
    "padding_type='post'"
   ]
  },
  {
   "cell_type": "code",
   "execution_count": null,
   "metadata": {},
   "outputs": [],
   "source": [
    "# fitting tokenizer to training sentences\n",
    "tokenizer.fit_on_texts(training_sentences)\n",
    "\n",
    "word_index = tokenizer.word_index\n",
    "\n",
    "# padding\n",
    "training_sequences = tokenizer.texts_to_sequences(training_sentences)\n",
    "training_padded = pad_sequences(training_sequences, maxlen=max_length, padding=padding_type, truncating=trunc_type)\n",
    "\n",
    "testing_sequences = tokenizer.texts_to_sequences(testing_sentences)\n",
    "testing_padded = pad_sequences(testing_sequences, maxlen=max_length, padding=padding_type, truncating=trunc_type)"
   ]
  }
 ],
 "metadata": {
  "kernelspec": {
   "display_name": "dev",
   "language": "python",
   "name": "python3"
  },
  "language_info": {
   "codemirror_mode": {
    "name": "ipython",
    "version": 3
   },
   "file_extension": ".py",
   "mimetype": "text/x-python",
   "name": "python",
   "nbconvert_exporter": "python",
   "pygments_lexer": "ipython3",
   "version": "3.10.11"
  }
 },
 "nbformat": 4,
 "nbformat_minor": 2
}
