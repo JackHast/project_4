{
 "cells": [
  {
   "cell_type": "code",
   "execution_count": 122,
   "metadata": {
    "colab": {
     "base_uri": "https://localhost:8080/"
    },
    "id": "WDCM1G0QBIyS",
    "outputId": "12567976-b434-4146-ff78-5c7918d88c20"
   },
   "outputs": [],
   "source": [
    "import pandas as pd\n",
    "import numpy as np\n",
    "from sklearn.feature_extraction.text import TfidfVectorizer\n",
    "from sklearn.linear_model import LogisticRegression\n",
    "from sklearn.metrics import accuracy_score"
   ]
  },
  {
   "cell_type": "code",
   "execution_count": 123,
   "metadata": {
    "id": "-0W9z668Q_wH"
   },
   "outputs": [
    {
     "data": {
      "text/html": [
       "<div>\n",
       "<style scoped>\n",
       "    .dataframe tbody tr th:only-of-type {\n",
       "        vertical-align: middle;\n",
       "    }\n",
       "\n",
       "    .dataframe tbody tr th {\n",
       "        vertical-align: top;\n",
       "    }\n",
       "\n",
       "    .dataframe thead th {\n",
       "        text-align: right;\n",
       "    }\n",
       "</style>\n",
       "<table border=\"1\" class=\"dataframe\">\n",
       "  <thead>\n",
       "    <tr style=\"text-align: right;\">\n",
       "      <th></th>\n",
       "      <th>Sentence</th>\n",
       "      <th>Sentiment</th>\n",
       "    </tr>\n",
       "  </thead>\n",
       "  <tbody>\n",
       "    <tr>\n",
       "      <th>0</th>\n",
       "      <td>Mid-cap funds can deliver more, stay put: Experts</td>\n",
       "      <td>1</td>\n",
       "    </tr>\n",
       "    <tr>\n",
       "      <th>1</th>\n",
       "      <td>Mid caps now turn into market darlings</td>\n",
       "      <td>1</td>\n",
       "    </tr>\n",
       "    <tr>\n",
       "      <th>2</th>\n",
       "      <td>Hudco raises Rs 279 cr via tax-free bonds</td>\n",
       "      <td>1</td>\n",
       "    </tr>\n",
       "    <tr>\n",
       "      <th>3</th>\n",
       "      <td>EXL beats profit estimates, cuts sales outlook</td>\n",
       "      <td>1</td>\n",
       "    </tr>\n",
       "    <tr>\n",
       "      <th>4</th>\n",
       "      <td>Would stick to banking: Girish Pai, Centrum Br...</td>\n",
       "      <td>1</td>\n",
       "    </tr>\n",
       "  </tbody>\n",
       "</table>\n",
       "</div>"
      ],
      "text/plain": [
       "                                            Sentence  Sentiment\n",
       "0  Mid-cap funds can deliver more, stay put: Experts          1\n",
       "1             Mid caps now turn into market darlings          1\n",
       "2          Hudco raises Rs 279 cr via tax-free bonds          1\n",
       "3     EXL beats profit estimates, cuts sales outlook          1\n",
       "4  Would stick to banking: Girish Pai, Centrum Br...          1"
      ]
     },
     "execution_count": 123,
     "metadata": {},
     "output_type": "execute_result"
    }
   ],
   "source": [
    "df = pd.read_csv('Cleaned_data/combined_df.csv')\n",
    "df.head()"
   ]
  },
  {
   "cell_type": "code",
   "execution_count": 124,
   "metadata": {},
   "outputs": [
    {
     "data": {
      "text/plain": [
       "(15962, 2)"
      ]
     },
     "execution_count": 124,
     "metadata": {},
     "output_type": "execute_result"
    }
   ],
   "source": [
    "df.shape"
   ]
  },
  {
   "cell_type": "code",
   "execution_count": 125,
   "metadata": {
    "colab": {
     "base_uri": "https://localhost:8080/"
    },
    "id": "SSXwY9iYe7X-",
    "outputId": "2ad0dc6a-d82c-444b-c8bc-70304197e8ed"
   },
   "outputs": [
    {
     "data": {
      "text/plain": [
       "1    9761\n",
       "0    6201\n",
       "Name: Sentiment, dtype: int64"
      ]
     },
     "execution_count": 125,
     "metadata": {},
     "output_type": "execute_result"
    }
   ],
   "source": [
    "# There are approx. 3500 more positive than negative articles which is a problem\n",
    "df['Sentiment'].value_counts()"
   ]
  },
  {
   "cell_type": "code",
   "execution_count": 126,
   "metadata": {
    "colab": {
     "base_uri": "https://localhost:8080/"
    },
    "id": "-F-4I_oaBSwb",
    "outputId": "7f9741c8-6804-45c0-8760-19f2a74d0a1b"
   },
   "outputs": [
    {
     "name": "stderr",
     "output_type": "stream",
     "text": [
      "/var/folders/px/x65fp4pn31s5cv4gsbh_3cl80000gn/T/ipykernel_28280/1876662893.py:5: FutureWarning: The default value of regex will change from True to False in a future version. In addition, single character regular expressions will *not* be treated as literal strings when regex=True.\n",
      "  df['Sentence'] = df['Sentence'].str.replace(char,\"\")\n"
     ]
    }
   ],
   "source": [
    "# removing non-alphanumeric characters since not needed\n",
    "\n",
    "non_alphanum = [',','.','/','\"',':',';','!','@','#','$','%',\"'\",\"*\",\"(\",\")\",\"&\",\"--\"]\n",
    "for char in non_alphanum:\n",
    "  df['Sentence'] = df['Sentence'].str.replace(char,\"\")\n",
    "\n",
    "df['Sentence'] = df['Sentence'].str.replace(\" s \",\" \")\n",
    "df['Sentence'] = df['Sentence'].str.replace(\" '\",\"'\")\n",
    "df['Sentence'] = df['Sentence'].str.replace(\"  \",\" \")\n",
    "df['Sentence'] = df['Sentence'].str.replace(\"   \",\" \")\n",
    "df['Sentence'] = df['Sentence'].str.lower()"
   ]
  },
  {
   "cell_type": "code",
   "execution_count": 127,
   "metadata": {
    "id": "uQxJgWEuBfbW"
   },
   "outputs": [],
   "source": [
    "# splitting into training and testing\n",
    "\n",
    "from sklearn.model_selection import train_test_split\n",
    "\n",
    "X = df['Sentence'].to_numpy().reshape(-1, 1)\n",
    "y = df['Sentiment'].to_numpy().reshape(-1, 1)\n",
    "X_train, X_test, y_train, y_test = train_test_split(X, y,test_size=0.15, stratify=y)"
   ]
  },
  {
   "cell_type": "code",
   "execution_count": 128,
   "metadata": {
    "id": "9BP00RSCFNHH"
   },
   "outputs": [],
   "source": [
    "# putting each sentence and sentiment from the training and testing dataframes into lists\n",
    "\n",
    "training_sentences=[]\n",
    "testing_sentences=[]\n",
    "training_labels=[]\n",
    "testing_labels=[]\n",
    "\n",
    "for i in X_train:\n",
    "  training_sentences.append(i[0])\n",
    "for i in y_train:\n",
    "  training_labels.append(i[0])\n",
    "for i in X_test:\n",
    "  testing_sentences.append(i[0])\n",
    "for i in y_test:\n",
    "  testing_labels.append(i[0])\n"
   ]
  },
  {
   "cell_type": "code",
   "execution_count": 129,
   "metadata": {
    "colab": {
     "base_uri": "https://localhost:8080/"
    },
    "id": "eWFAawDOSVOH",
    "outputId": "924425be-3c1a-4227-fa4b-227b43b49b3d"
   },
   "outputs": [],
   "source": [
    "# Use the TfidfVectorizer tool to convert sentences into numerical vectors.\n",
    "vectorizer = TfidfVectorizer(\n",
    "    max_df=0.8,\n",
    "    min_df=3,\n",
    ")\n",
    "\n",
    "# Train the vectorizer on the training data / convert that data into vectors.\n",
    "X_train_vec = vectorizer.fit_transform(training_sentences)\n",
    "\n",
    "# Use the trained vectorizer to convert the testing data into vectors\n",
    "X_test_vec = vectorizer.transform(testing_sentences)"
   ]
  },
  {
   "cell_type": "code",
   "execution_count": 130,
   "metadata": {},
   "outputs": [
    {
     "data": {
      "text/html": [
       "<style>#sk-container-id-12 {color: black;}#sk-container-id-12 pre{padding: 0;}#sk-container-id-12 div.sk-toggleable {background-color: white;}#sk-container-id-12 label.sk-toggleable__label {cursor: pointer;display: block;width: 100%;margin-bottom: 0;padding: 0.3em;box-sizing: border-box;text-align: center;}#sk-container-id-12 label.sk-toggleable__label-arrow:before {content: \"▸\";float: left;margin-right: 0.25em;color: #696969;}#sk-container-id-12 label.sk-toggleable__label-arrow:hover:before {color: black;}#sk-container-id-12 div.sk-estimator:hover label.sk-toggleable__label-arrow:before {color: black;}#sk-container-id-12 div.sk-toggleable__content {max-height: 0;max-width: 0;overflow: hidden;text-align: left;background-color: #f0f8ff;}#sk-container-id-12 div.sk-toggleable__content pre {margin: 0.2em;color: black;border-radius: 0.25em;background-color: #f0f8ff;}#sk-container-id-12 input.sk-toggleable__control:checked~div.sk-toggleable__content {max-height: 200px;max-width: 100%;overflow: auto;}#sk-container-id-12 input.sk-toggleable__control:checked~label.sk-toggleable__label-arrow:before {content: \"▾\";}#sk-container-id-12 div.sk-estimator input.sk-toggleable__control:checked~label.sk-toggleable__label {background-color: #d4ebff;}#sk-container-id-12 div.sk-label input.sk-toggleable__control:checked~label.sk-toggleable__label {background-color: #d4ebff;}#sk-container-id-12 input.sk-hidden--visually {border: 0;clip: rect(1px 1px 1px 1px);clip: rect(1px, 1px, 1px, 1px);height: 1px;margin: -1px;overflow: hidden;padding: 0;position: absolute;width: 1px;}#sk-container-id-12 div.sk-estimator {font-family: monospace;background-color: #f0f8ff;border: 1px dotted black;border-radius: 0.25em;box-sizing: border-box;margin-bottom: 0.5em;}#sk-container-id-12 div.sk-estimator:hover {background-color: #d4ebff;}#sk-container-id-12 div.sk-parallel-item::after {content: \"\";width: 100%;border-bottom: 1px solid gray;flex-grow: 1;}#sk-container-id-12 div.sk-label:hover label.sk-toggleable__label {background-color: #d4ebff;}#sk-container-id-12 div.sk-serial::before {content: \"\";position: absolute;border-left: 1px solid gray;box-sizing: border-box;top: 0;bottom: 0;left: 50%;z-index: 0;}#sk-container-id-12 div.sk-serial {display: flex;flex-direction: column;align-items: center;background-color: white;padding-right: 0.2em;padding-left: 0.2em;position: relative;}#sk-container-id-12 div.sk-item {position: relative;z-index: 1;}#sk-container-id-12 div.sk-parallel {display: flex;align-items: stretch;justify-content: center;background-color: white;position: relative;}#sk-container-id-12 div.sk-item::before, #sk-container-id-12 div.sk-parallel-item::before {content: \"\";position: absolute;border-left: 1px solid gray;box-sizing: border-box;top: 0;bottom: 0;left: 50%;z-index: -1;}#sk-container-id-12 div.sk-parallel-item {display: flex;flex-direction: column;z-index: 1;position: relative;background-color: white;}#sk-container-id-12 div.sk-parallel-item:first-child::after {align-self: flex-end;width: 50%;}#sk-container-id-12 div.sk-parallel-item:last-child::after {align-self: flex-start;width: 50%;}#sk-container-id-12 div.sk-parallel-item:only-child::after {width: 0;}#sk-container-id-12 div.sk-dashed-wrapped {border: 1px dashed gray;margin: 0 0.4em 0.5em 0.4em;box-sizing: border-box;padding-bottom: 0.4em;background-color: white;}#sk-container-id-12 div.sk-label label {font-family: monospace;font-weight: bold;display: inline-block;line-height: 1.2em;}#sk-container-id-12 div.sk-label-container {text-align: center;}#sk-container-id-12 div.sk-container {/* jupyter's `normalize.less` sets `[hidden] { display: none; }` but bootstrap.min.css set `[hidden] { display: none !important; }` so we also need the `!important` here to be able to override the default hidden behavior on the sphinx rendered scikit-learn.org. See: https://github.com/scikit-learn/scikit-learn/issues/21755 */display: inline-block !important;position: relative;}#sk-container-id-12 div.sk-text-repr-fallback {display: none;}</style><div id=\"sk-container-id-12\" class=\"sk-top-container\"><div class=\"sk-text-repr-fallback\"><pre>LogisticRegression(max_iter=2000)</pre><b>In a Jupyter environment, please rerun this cell to show the HTML representation or trust the notebook. <br />On GitHub, the HTML representation is unable to render, please try loading this page with nbviewer.org.</b></div><div class=\"sk-container\" hidden><div class=\"sk-item\"><div class=\"sk-estimator sk-toggleable\"><input class=\"sk-toggleable__control sk-hidden--visually\" id=\"sk-estimator-id-12\" type=\"checkbox\" checked><label for=\"sk-estimator-id-12\" class=\"sk-toggleable__label sk-toggleable__label-arrow\">LogisticRegression</label><div class=\"sk-toggleable__content\"><pre>LogisticRegression(max_iter=2000)</pre></div></div></div></div></div>"
      ],
      "text/plain": [
       "LogisticRegression(max_iter=2000)"
      ]
     },
     "execution_count": 130,
     "metadata": {},
     "output_type": "execute_result"
    }
   ],
   "source": [
    "# Initialise and train the logistic regression model\n",
    "model = LogisticRegression(max_iter=2000)\n",
    "model.fit(X_train_vec, training_labels)"
   ]
  },
  {
   "cell_type": "code",
   "execution_count": 131,
   "metadata": {},
   "outputs": [
    {
     "name": "stdout",
     "output_type": "stream",
     "text": [
      "Training Accuracy: 89.19%\n",
      "Val_Accuracy: 85.89%\n"
     ]
    }
   ],
   "source": [
    "# Predict on training data to compare both train and test accuracy \n",
    "y_train_pred = model.predict(X_train_vec)\n",
    "train_accuracy = accuracy_score(training_labels, y_train_pred)\n",
    "print(f\"Training Accuracy: {train_accuracy * 100:.2f}%\")\n",
    "\n",
    "# Evaluate the model\n",
    "y_pred = model.predict(X_test_vec)\n",
    "accuracy = accuracy_score(testing_labels, y_pred)\n",
    "print(f\"Val_Accuracy: {accuracy * 100:.2f}%\")"
   ]
  },
  {
   "cell_type": "markdown",
   "metadata": {},
   "source": [
    "### Testing new headlines..."
   ]
  },
  {
   "cell_type": "code",
   "execution_count": 132,
   "metadata": {},
   "outputs": [
    {
     "name": "stdout",
     "output_type": "stream",
     "text": [
      "Headline: 'tesla stock decreases' -> Prediction: 1\n",
      "Headline: 'energy costs skyrocket' -> Prediction: 0\n",
      "Headline: '' -> Prediction: 1\n",
      "Headline: 'Fortescue makes slow start on push for fifth iron ore export record' -> Prediction: 1\n",
      "Headline: 'Microsoft embroiled in privacy concerns' -> Prediction: 0\n",
      "Headline: 'Webcentral to divest assets for $165m; MacCap on ticket' -> Prediction: 0\n",
      "Headline: 'Crown’s multibillion-dollar expense bill wipes casino profits' -> Prediction: 0\n",
      "Headline: 'Pilbara Minerals shelves special dividend as lithium price dips' -> Prediction: 0\n",
      "Headline: 'Critical minerals projects ‘at risk from Labor environment plan’' -> Prediction: 1\n",
      "Headline: 'Lithium hopeful strikes $1.63b sale to Chile’s SQM' -> Prediction: 1\n"
     ]
    }
   ],
   "source": [
    "# Function to preprocess new test headlines\n",
    "def preprocess_text(text):\n",
    "    non_alphanum = [',','.','/','\"',':',';','!','@','#','$','%',\"'\",\"*\",\"(\",\")\",\"&\",\"--\"]\n",
    "    for char in non_alphanum:\n",
    "        text = text.replace(char, \"\")\n",
    "    text = text.replace(\" s \", \" \")\n",
    "    text = text.replace(\" '\", \"'\")\n",
    "    text = text.replace(\"  \", \" \")\n",
    "    text = text.replace(\"   \", \" \")\n",
    "    text = text.lower()\n",
    "    return text\n",
    "\n",
    "# New headlines to test\n",
    "test_headlines = [\"tesla stock decreases\", \n",
    "                  \"energy costs skyrocket\",\n",
    "                  \"\",\n",
    "                  \"Fortescue makes slow start on push for fifth iron ore export record\",\n",
    "                  \"Microsoft embroiled in privacy concerns\",\n",
    "                  \"Webcentral to divest assets for $165m; MacCap on ticket\",\n",
    "                  \"Crown’s multibillion-dollar expense bill wipes casino profits\",\n",
    "                  \"Pilbara Minerals shelves special dividend as lithium price dips\",\n",
    "                  \"Critical minerals projects ‘at risk from Labor environment plan’\",\n",
    "                  \"Lithium hopeful strikes $1.63b sale to Chile’s SQM\"]\n",
    "\n",
    "# Preprocess the new test  headlines\n",
    "test_headlines_processed = [preprocess_text(headline) for headline in test_headlines]\n",
    "\n",
    "# Vectorize the preprocessed headlines\n",
    "test_headlines_vec = vectorizer.transform(test_headlines_processed)\n",
    "\n",
    "# Predict using the logistic regression model\n",
    "test_predictions = model.predict(test_headlines_vec)\n",
    "\n",
    "# Display the predictions\n",
    "for headline, prediction in zip(test_headlines, test_predictions):\n",
    "    print(f\"Headline: '{headline}' -> Prediction: {prediction}\")\n"
   ]
  }
 ],
 "metadata": {
  "colab": {
   "provenance": []
  },
  "kernelspec": {
   "display_name": "Python 3 (ipykernel)",
   "language": "python",
   "name": "python3"
  },
  "language_info": {
   "codemirror_mode": {
    "name": "ipython",
    "version": 3
   },
   "file_extension": ".py",
   "mimetype": "text/x-python",
   "name": "python",
   "nbconvert_exporter": "python",
   "pygments_lexer": "ipython3",
   "version": "3.10.11"
  }
 },
 "nbformat": 4,
 "nbformat_minor": 1
}
